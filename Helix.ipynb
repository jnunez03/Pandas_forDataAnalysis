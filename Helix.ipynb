{
  "nbformat": 4,
  "nbformat_minor": 0,
  "metadata": {
    "colab": {
      "name": "Untitled",
      "provenance": [],
      "collapsed_sections": [],
      "include_colab_link": true
    },
    "kernelspec": {
      "name": "python3",
      "display_name": "Python 3"
    }
  },
  "cells": [
    {
      "cell_type": "markdown",
      "metadata": {
        "id": "view-in-github",
        "colab_type": "text"
      },
      "source": [
        "<a href=\"https://colab.research.google.com/github/jnunez03/Pandas_forDataAnalysis/blob/master/Helix.ipynb\" target=\"_parent\"><img src=\"https://colab.research.google.com/assets/colab-badge.svg\" alt=\"Open In Colab\"/></a>"
      ]
    },
    {
      "cell_type": "code",
      "metadata": {
        "id": "lCj8b4WCrCRr",
        "colab_type": "code",
        "outputId": "d91415e1-fd0a-42e4-b72e-c2a6dbb30175",
        "colab": {
          "base_uri": "https://localhost:8080/",
          "height": 272
        }
      },
      "source": [
        "import numpy as np\n",
        "import pandas as pd\n",
        "from fbprophet import Prophet \n",
        "\n",
        "\n",
        "# re-run new query from ATOM/BQ.\n",
        "\n",
        "q = \"\"\"\n",
        "SELECT\n",
        "regi_id, \n",
        "product_code, \n",
        "mIN(case when is_sub = true then date(update_time) else null end) as NL_Sub_date,\n",
        "max(case when is_sub = False then date(update_time) else null end) as NL_Unsub_date\n",
        "FROM `nyt-messaging-prd.helix_email.email_user_subscriptions`\n",
        "WHERE _PARTITIONTIME >= '2016-01-01 00:00:00' AND _PARTITIONTIME < '2019-09-25 00:00:00'\n",
        "and product_code = 'CK'\n",
        "group by 1,2\n",
        "\"\"\"\n",
        "\n",
        "df = pd.read_gbq(q,\n",
        "    project_id = 'nyt-bigquery-beta-workspace',\n",
        "    dialect='standard')"
      ],
      "execution_count": 70,
      "outputs": [
        {
          "output_type": "stream",
          "text": [
            "INFO:google.auth.compute_engine._metadata:Compute Engine Metadata server unavailable.\n",
            "INFO:pandas_gbq.gbq:Requesting query... \n",
            "INFO:pandas_gbq.gbq:ok.\n",
            "Query running...\n",
            "INFO:pandas_gbq.gbq:Job ID: d538592b-690f-4429-bbcc-c53fb8ae5501\n",
            "Query running...\n",
            "INFO:pandas_gbq.gbq:  Elapsed 7.2 s. Waiting...\n",
            "INFO:pandas_gbq.gbq:  Elapsed 9.79 s. Waiting...\n",
            "INFO:pandas_gbq.gbq:  Elapsed 11.15 s. Waiting...\n",
            "INFO:pandas_gbq.gbq:  Elapsed 13.1 s. Waiting...\n",
            "INFO:pandas_gbq.gbq:  Elapsed 14.22 s. Waiting...\n",
            "INFO:pandas_gbq.gbq:Got 5616651 rows.\n",
            "\n",
            "INFO:pandas_gbq.gbq:Total time taken 329.92 s.\n",
            "Finished at 2019-09-25 15:50:35.\n"
          ],
          "name": "stderr"
        }
      ]
    },
    {
      "cell_type": "code",
      "metadata": {
        "id": "9caZ1PlmsFFx",
        "colab_type": "code",
        "outputId": "7909cd8d-fccb-4e8c-af17-7258e36ea2d5",
        "colab": {
          "base_uri": "https://localhost:8080/",
          "height": 1000
        }
      },
      "source": [
        "# Now Run This Segment\n",
        "#df.head(n=5)\n",
        "\n",
        "#df['f0_'].str.len() # tells me how long each row is. \n",
        "df.head(n=40)\n",
        "\n",
        "\n"
      ],
      "execution_count": 24,
      "outputs": [
        {
          "output_type": "execute_result",
          "data": {
            "text/html": [
              "<div>\n",
              "<style scoped>\n",
              "    .dataframe tbody tr th:only-of-type {\n",
              "        vertical-align: middle;\n",
              "    }\n",
              "\n",
              "    .dataframe tbody tr th {\n",
              "        vertical-align: top;\n",
              "    }\n",
              "\n",
              "    .dataframe thead th {\n",
              "        text-align: right;\n",
              "    }\n",
              "</style>\n",
              "<table border=\"1\" class=\"dataframe\">\n",
              "  <thead>\n",
              "    <tr style=\"text-align: right;\">\n",
              "      <th></th>\n",
              "      <th>regi_id</th>\n",
              "      <th>product_code</th>\n",
              "      <th>NL_Sub_date</th>\n",
              "      <th>NL_Unsub_date</th>\n",
              "    </tr>\n",
              "  </thead>\n",
              "  <tbody>\n",
              "    <tr>\n",
              "      <th>0</th>\n",
              "      <td>95966264</td>\n",
              "      <td>CK</td>\n",
              "      <td>2019-08-26</td>\n",
              "      <td>2019-08-27</td>\n",
              "    </tr>\n",
              "    <tr>\n",
              "      <th>1</th>\n",
              "      <td>89529746</td>\n",
              "      <td>CK</td>\n",
              "      <td>2018-12-29</td>\n",
              "      <td>2019-08-27</td>\n",
              "    </tr>\n",
              "    <tr>\n",
              "      <th>2</th>\n",
              "      <td>91032993</td>\n",
              "      <td>CK</td>\n",
              "      <td>2019-03-21</td>\n",
              "      <td>2019-08-27</td>\n",
              "    </tr>\n",
              "    <tr>\n",
              "      <th>3</th>\n",
              "      <td>95902137</td>\n",
              "      <td>CK</td>\n",
              "      <td>2019-08-24</td>\n",
              "      <td>2019-08-27</td>\n",
              "    </tr>\n",
              "    <tr>\n",
              "      <th>4</th>\n",
              "      <td>94469074</td>\n",
              "      <td>CK</td>\n",
              "      <td>2019-07-27</td>\n",
              "      <td>2019-08-27</td>\n",
              "    </tr>\n",
              "    <tr>\n",
              "      <th>5</th>\n",
              "      <td>68184151</td>\n",
              "      <td>CK</td>\n",
              "      <td>2018-12-13</td>\n",
              "      <td>2019-08-27</td>\n",
              "    </tr>\n",
              "    <tr>\n",
              "      <th>6</th>\n",
              "      <td>88689902</td>\n",
              "      <td>CK</td>\n",
              "      <td>2019-07-10</td>\n",
              "      <td>2019-08-27</td>\n",
              "    </tr>\n",
              "    <tr>\n",
              "      <th>7</th>\n",
              "      <td>93899961</td>\n",
              "      <td>CK</td>\n",
              "      <td>2019-07-16</td>\n",
              "      <td>2019-08-27</td>\n",
              "    </tr>\n",
              "    <tr>\n",
              "      <th>8</th>\n",
              "      <td>96013511</td>\n",
              "      <td>CK</td>\n",
              "      <td>2019-08-26</td>\n",
              "      <td>2019-08-27</td>\n",
              "    </tr>\n",
              "    <tr>\n",
              "      <th>9</th>\n",
              "      <td>83790175</td>\n",
              "      <td>CK</td>\n",
              "      <td>2017-12-09</td>\n",
              "      <td>2019-08-27</td>\n",
              "    </tr>\n",
              "    <tr>\n",
              "      <th>10</th>\n",
              "      <td>72029801</td>\n",
              "      <td>CK</td>\n",
              "      <td>2019-07-26</td>\n",
              "      <td>2019-08-27</td>\n",
              "    </tr>\n",
              "    <tr>\n",
              "      <th>11</th>\n",
              "      <td>94598993</td>\n",
              "      <td>CK</td>\n",
              "      <td>2019-07-30</td>\n",
              "      <td>2019-08-27</td>\n",
              "    </tr>\n",
              "    <tr>\n",
              "      <th>12</th>\n",
              "      <td>82952373</td>\n",
              "      <td>CK</td>\n",
              "      <td>2019-08-15</td>\n",
              "      <td>2019-08-27</td>\n",
              "    </tr>\n",
              "    <tr>\n",
              "      <th>13</th>\n",
              "      <td>57059756</td>\n",
              "      <td>CK</td>\n",
              "      <td>2017-07-03</td>\n",
              "      <td>2019-08-27</td>\n",
              "    </tr>\n",
              "    <tr>\n",
              "      <th>14</th>\n",
              "      <td>89104396</td>\n",
              "      <td>CK</td>\n",
              "      <td>2018-12-03</td>\n",
              "      <td>2019-08-27</td>\n",
              "    </tr>\n",
              "    <tr>\n",
              "      <th>15</th>\n",
              "      <td>88094884</td>\n",
              "      <td>CK</td>\n",
              "      <td>2018-10-08</td>\n",
              "      <td>2019-08-27</td>\n",
              "    </tr>\n",
              "    <tr>\n",
              "      <th>16</th>\n",
              "      <td>79627351</td>\n",
              "      <td>CK</td>\n",
              "      <td>2017-03-21</td>\n",
              "      <td>2019-08-27</td>\n",
              "    </tr>\n",
              "    <tr>\n",
              "      <th>17</th>\n",
              "      <td>81978426</td>\n",
              "      <td>CK</td>\n",
              "      <td>2017-08-25</td>\n",
              "      <td>2019-08-27</td>\n",
              "    </tr>\n",
              "    <tr>\n",
              "      <th>18</th>\n",
              "      <td>85007368</td>\n",
              "      <td>CK</td>\n",
              "      <td>2018-02-24</td>\n",
              "      <td>2019-08-27</td>\n",
              "    </tr>\n",
              "    <tr>\n",
              "      <th>19</th>\n",
              "      <td>67823962</td>\n",
              "      <td>CK</td>\n",
              "      <td>2019-06-20</td>\n",
              "      <td>2019-08-27</td>\n",
              "    </tr>\n",
              "    <tr>\n",
              "      <th>20</th>\n",
              "      <td>96037199</td>\n",
              "      <td>CK</td>\n",
              "      <td>None</td>\n",
              "      <td>2019-08-27</td>\n",
              "    </tr>\n",
              "    <tr>\n",
              "      <th>21</th>\n",
              "      <td>96032380</td>\n",
              "      <td>CK</td>\n",
              "      <td>None</td>\n",
              "      <td>2019-08-27</td>\n",
              "    </tr>\n",
              "    <tr>\n",
              "      <th>22</th>\n",
              "      <td>96054800</td>\n",
              "      <td>CK</td>\n",
              "      <td>None</td>\n",
              "      <td>2019-08-27</td>\n",
              "    </tr>\n",
              "    <tr>\n",
              "      <th>23</th>\n",
              "      <td>96060917</td>\n",
              "      <td>CK</td>\n",
              "      <td>None</td>\n",
              "      <td>2019-08-27</td>\n",
              "    </tr>\n",
              "    <tr>\n",
              "      <th>24</th>\n",
              "      <td>96068601</td>\n",
              "      <td>CK</td>\n",
              "      <td>None</td>\n",
              "      <td>2019-08-27</td>\n",
              "    </tr>\n",
              "    <tr>\n",
              "      <th>25</th>\n",
              "      <td>96089405</td>\n",
              "      <td>CK</td>\n",
              "      <td>None</td>\n",
              "      <td>2019-08-27</td>\n",
              "    </tr>\n",
              "    <tr>\n",
              "      <th>26</th>\n",
              "      <td>96035866</td>\n",
              "      <td>CK</td>\n",
              "      <td>2019-08-27</td>\n",
              "      <td>2019-08-27</td>\n",
              "    </tr>\n",
              "    <tr>\n",
              "      <th>27</th>\n",
              "      <td>96030250</td>\n",
              "      <td>CK</td>\n",
              "      <td>2019-08-27</td>\n",
              "      <td>2019-08-27</td>\n",
              "    </tr>\n",
              "    <tr>\n",
              "      <th>28</th>\n",
              "      <td>96041306</td>\n",
              "      <td>CK</td>\n",
              "      <td>2019-08-27</td>\n",
              "      <td>2019-08-27</td>\n",
              "    </tr>\n",
              "    <tr>\n",
              "      <th>29</th>\n",
              "      <td>96043257</td>\n",
              "      <td>CK</td>\n",
              "      <td>2019-08-27</td>\n",
              "      <td>2019-08-27</td>\n",
              "    </tr>\n",
              "    <tr>\n",
              "      <th>30</th>\n",
              "      <td>96066350</td>\n",
              "      <td>CK</td>\n",
              "      <td>2019-08-27</td>\n",
              "      <td>2019-08-27</td>\n",
              "    </tr>\n",
              "    <tr>\n",
              "      <th>31</th>\n",
              "      <td>96061887</td>\n",
              "      <td>CK</td>\n",
              "      <td>2019-08-27</td>\n",
              "      <td>2019-08-27</td>\n",
              "    </tr>\n",
              "    <tr>\n",
              "      <th>32</th>\n",
              "      <td>96066324</td>\n",
              "      <td>CK</td>\n",
              "      <td>2019-08-27</td>\n",
              "      <td>2019-08-27</td>\n",
              "    </tr>\n",
              "    <tr>\n",
              "      <th>33</th>\n",
              "      <td>88890124</td>\n",
              "      <td>CK</td>\n",
              "      <td>2018-11-20</td>\n",
              "      <td>2018-11-30</td>\n",
              "    </tr>\n",
              "    <tr>\n",
              "      <th>34</th>\n",
              "      <td>74847492</td>\n",
              "      <td>CK</td>\n",
              "      <td>2019-08-27</td>\n",
              "      <td>2019-09-09</td>\n",
              "    </tr>\n",
              "    <tr>\n",
              "      <th>35</th>\n",
              "      <td>83873368</td>\n",
              "      <td>CK</td>\n",
              "      <td>2018-08-27</td>\n",
              "      <td>2018-08-27</td>\n",
              "    </tr>\n",
              "    <tr>\n",
              "      <th>36</th>\n",
              "      <td>70003589</td>\n",
              "      <td>CK</td>\n",
              "      <td>2014-10-15</td>\n",
              "      <td>2018-08-26</td>\n",
              "    </tr>\n",
              "    <tr>\n",
              "      <th>37</th>\n",
              "      <td>87249841</td>\n",
              "      <td>CK</td>\n",
              "      <td>2018-08-21</td>\n",
              "      <td>2018-08-27</td>\n",
              "    </tr>\n",
              "    <tr>\n",
              "      <th>38</th>\n",
              "      <td>87345321</td>\n",
              "      <td>CK</td>\n",
              "      <td>2018-08-27</td>\n",
              "      <td>2018-08-27</td>\n",
              "    </tr>\n",
              "    <tr>\n",
              "      <th>39</th>\n",
              "      <td>87344274</td>\n",
              "      <td>CK</td>\n",
              "      <td>2018-08-26</td>\n",
              "      <td>2018-08-27</td>\n",
              "    </tr>\n",
              "  </tbody>\n",
              "</table>\n",
              "</div>"
            ],
            "text/plain": [
              "     regi_id product_code NL_Sub_date NL_Unsub_date\n",
              "0   95966264           CK  2019-08-26    2019-08-27\n",
              "1   89529746           CK  2018-12-29    2019-08-27\n",
              "2   91032993           CK  2019-03-21    2019-08-27\n",
              "3   95902137           CK  2019-08-24    2019-08-27\n",
              "4   94469074           CK  2019-07-27    2019-08-27\n",
              "5   68184151           CK  2018-12-13    2019-08-27\n",
              "6   88689902           CK  2019-07-10    2019-08-27\n",
              "7   93899961           CK  2019-07-16    2019-08-27\n",
              "8   96013511           CK  2019-08-26    2019-08-27\n",
              "9   83790175           CK  2017-12-09    2019-08-27\n",
              "10  72029801           CK  2019-07-26    2019-08-27\n",
              "11  94598993           CK  2019-07-30    2019-08-27\n",
              "12  82952373           CK  2019-08-15    2019-08-27\n",
              "13  57059756           CK  2017-07-03    2019-08-27\n",
              "14  89104396           CK  2018-12-03    2019-08-27\n",
              "15  88094884           CK  2018-10-08    2019-08-27\n",
              "16  79627351           CK  2017-03-21    2019-08-27\n",
              "17  81978426           CK  2017-08-25    2019-08-27\n",
              "18  85007368           CK  2018-02-24    2019-08-27\n",
              "19  67823962           CK  2019-06-20    2019-08-27\n",
              "20  96037199           CK        None    2019-08-27\n",
              "21  96032380           CK        None    2019-08-27\n",
              "22  96054800           CK        None    2019-08-27\n",
              "23  96060917           CK        None    2019-08-27\n",
              "24  96068601           CK        None    2019-08-27\n",
              "25  96089405           CK        None    2019-08-27\n",
              "26  96035866           CK  2019-08-27    2019-08-27\n",
              "27  96030250           CK  2019-08-27    2019-08-27\n",
              "28  96041306           CK  2019-08-27    2019-08-27\n",
              "29  96043257           CK  2019-08-27    2019-08-27\n",
              "30  96066350           CK  2019-08-27    2019-08-27\n",
              "31  96061887           CK  2019-08-27    2019-08-27\n",
              "32  96066324           CK  2019-08-27    2019-08-27\n",
              "33  88890124           CK  2018-11-20    2018-11-30\n",
              "34  74847492           CK  2019-08-27    2019-09-09\n",
              "35  83873368           CK  2018-08-27    2018-08-27\n",
              "36  70003589           CK  2014-10-15    2018-08-26\n",
              "37  87249841           CK  2018-08-21    2018-08-27\n",
              "38  87345321           CK  2018-08-27    2018-08-27\n",
              "39  87344274           CK  2018-08-26    2018-08-27"
            ]
          },
          "metadata": {
            "tags": []
          },
          "execution_count": 24
        }
      ]
    },
    {
      "cell_type": "code",
      "metadata": {
        "id": "b8-P9zeOZY1v",
        "colab_type": "code",
        "colab": {}
      },
      "source": [
        "#from google.colab import files\n",
        "#df.to_csv('XWdata.csv') \n",
        "#files.download('XWdata.csv')\n",
        "\n",
        "#df.dtypes  \n",
        "\n",
        "\n",
        "# Drop values where we see 'None' \n",
        "df1 = df[df.NL_Sub_date != 'None']\n",
        "\n",
        "df2 = df1[df1.NL_Unsub_date != 'None']\n",
        "\n",
        "\n",
        "\n",
        "#df['NL_Sub_date'] = pd.to_datetime(df['NL_Sub_date'])\n",
        "\n",
        "\n",
        "\n",
        "# Value_counts \n",
        "#print('Sub date Values...', df['NL_Sub_date'].value_counts())\n",
        "#print('\\n')\n",
        "#print('Unsub date Values...', df['NL_Unsub_date'].value_counts())\n",
        "\n",
        "#df['NL_Sub_date'] = pd.to_datetime(df['NL_Sub_date'])\n",
        "#df['NL_Unsub_date'] = pd.to_datetime(df['NL_Unsub_date'])\n",
        "#df[diff] = "
      ],
      "execution_count": 0,
      "outputs": []
    },
    {
      "cell_type": "code",
      "metadata": {
        "id": "Xtb4jBBIZZEP",
        "colab_type": "code",
        "colab": {}
      },
      "source": [
        "# Subscribed before January 2017\n",
        "\n",
        "#df2.head(n=10)\n",
        "\n",
        "\n",
        "df2['NL_Sub_date'] = pd.to_datetime(df2['NL_Sub_date'], errors='coerce')\n",
        "df2['NL_Unsub_date'] = pd.to_datetime(df2['NL_Unsub_date'], errors='coerce')\n",
        "# Changes out of bounds values to NaT  the -errors='coerce'"
      ],
      "execution_count": 0,
      "outputs": []
    },
    {
      "cell_type": "code",
      "metadata": {
        "id": "cHk3vBx56tzs",
        "colab_type": "code",
        "colab": {
          "base_uri": "https://localhost:8080/",
          "height": 317
        },
        "outputId": "fea16e2f-801e-44d5-8317-676b8ea5c664"
      },
      "source": [
        "# Subscribed before January 2017\n",
        "\n",
        "df3 = df2[df2.NL_Sub_date < '2017-01-01']\n",
        "df3.head(n=15)\n",
        "df3.length"
      ],
      "execution_count": 73,
      "outputs": [
        {
          "output_type": "error",
          "ename": "AttributeError",
          "evalue": "ignored",
          "traceback": [
            "\u001b[0;31m---------------------------------------------------------------------------\u001b[0m",
            "\u001b[0;31mAttributeError\u001b[0m                            Traceback (most recent call last)",
            "\u001b[0;32m<ipython-input-73-3d07828011ff>\u001b[0m in \u001b[0;36m<module>\u001b[0;34m()\u001b[0m\n\u001b[1;32m      2\u001b[0m \u001b[0mdf3\u001b[0m \u001b[0;34m=\u001b[0m \u001b[0mdf2\u001b[0m\u001b[0;34m[\u001b[0m\u001b[0mdf2\u001b[0m\u001b[0;34m.\u001b[0m\u001b[0mNL_Sub_date\u001b[0m \u001b[0;34m<\u001b[0m \u001b[0;34m'2017-01-01'\u001b[0m\u001b[0;34m]\u001b[0m\u001b[0;34m\u001b[0m\u001b[0;34m\u001b[0m\u001b[0m\n\u001b[1;32m      3\u001b[0m \u001b[0mdf3\u001b[0m\u001b[0;34m.\u001b[0m\u001b[0mhead\u001b[0m\u001b[0;34m(\u001b[0m\u001b[0mn\u001b[0m\u001b[0;34m=\u001b[0m\u001b[0;36m15\u001b[0m\u001b[0;34m)\u001b[0m\u001b[0;34m\u001b[0m\u001b[0;34m\u001b[0m\u001b[0m\n\u001b[0;32m----> 4\u001b[0;31m \u001b[0mdf3\u001b[0m\u001b[0;34m.\u001b[0m\u001b[0mlength\u001b[0m\u001b[0;34m\u001b[0m\u001b[0;34m\u001b[0m\u001b[0m\n\u001b[0m",
            "\u001b[0;32m/usr/local/lib/python3.6/dist-packages/pandas/core/generic.py\u001b[0m in \u001b[0;36m__getattr__\u001b[0;34m(self, name)\u001b[0m\n\u001b[1;32m   5065\u001b[0m             \u001b[0;32mif\u001b[0m \u001b[0mself\u001b[0m\u001b[0;34m.\u001b[0m\u001b[0m_info_axis\u001b[0m\u001b[0;34m.\u001b[0m\u001b[0m_can_hold_identifiers_and_holds_name\u001b[0m\u001b[0;34m(\u001b[0m\u001b[0mname\u001b[0m\u001b[0;34m)\u001b[0m\u001b[0;34m:\u001b[0m\u001b[0;34m\u001b[0m\u001b[0;34m\u001b[0m\u001b[0m\n\u001b[1;32m   5066\u001b[0m                 \u001b[0;32mreturn\u001b[0m \u001b[0mself\u001b[0m\u001b[0;34m[\u001b[0m\u001b[0mname\u001b[0m\u001b[0;34m]\u001b[0m\u001b[0;34m\u001b[0m\u001b[0;34m\u001b[0m\u001b[0m\n\u001b[0;32m-> 5067\u001b[0;31m             \u001b[0;32mreturn\u001b[0m \u001b[0mobject\u001b[0m\u001b[0;34m.\u001b[0m\u001b[0m__getattribute__\u001b[0m\u001b[0;34m(\u001b[0m\u001b[0mself\u001b[0m\u001b[0;34m,\u001b[0m \u001b[0mname\u001b[0m\u001b[0;34m)\u001b[0m\u001b[0;34m\u001b[0m\u001b[0;34m\u001b[0m\u001b[0m\n\u001b[0m\u001b[1;32m   5068\u001b[0m \u001b[0;34m\u001b[0m\u001b[0m\n\u001b[1;32m   5069\u001b[0m     \u001b[0;32mdef\u001b[0m \u001b[0m__setattr__\u001b[0m\u001b[0;34m(\u001b[0m\u001b[0mself\u001b[0m\u001b[0;34m,\u001b[0m \u001b[0mname\u001b[0m\u001b[0;34m,\u001b[0m \u001b[0mvalue\u001b[0m\u001b[0;34m)\u001b[0m\u001b[0;34m:\u001b[0m\u001b[0;34m\u001b[0m\u001b[0;34m\u001b[0m\u001b[0m\n",
            "\u001b[0;31mAttributeError\u001b[0m: 'DataFrame' object has no attribute 'length'"
          ]
        }
      ]
    },
    {
      "cell_type": "code",
      "metadata": {
        "id": "N9PPWhr97KX8",
        "colab_type": "code",
        "colab": {
          "base_uri": "https://localhost:8080/",
          "height": 153
        },
        "outputId": "ead40c96-f3d1-4410-a8f7-7286adbb0147"
      },
      "source": [
        "import matplotlib.pyplot as plt\n",
        "import seaborn as sb\n",
        "from pandas import Series, DataFrame\n",
        "from pylab import *\n",
        "import statsmodels.api as sm\n",
        "from matplotlib.ticker import MaxNLocator\n",
        "from matplotlib.font_manager import FontProperties\n",
        "from scipy import stats\n",
        "from scipy.stats import norm\n",
        "\n",
        "#plt.style.use('fivethirtyeight')\n",
        "\n",
        "plt.style.use('ggplot')\n",
        "\n",
        "\n",
        "   # PLOTS\n",
        "  \n",
        "#df3.tail(n=15)\n",
        "#df3.NL_Unsub_date.value_counts().plot(color='teal')\n",
        "#df3.NL_Sub_date.value_counts().plot(color='teal')\n",
        "\n",
        "#df3.head(n=10)\n",
        "\n",
        "df3['Diff'] = (df3['NL_Unsub_date'] - df3['NL_Sub_date']).dt.days\n",
        "\n",
        "#sb.distplot(df3['Diff'])\n",
        "\n"
      ],
      "execution_count": 74,
      "outputs": [
        {
          "output_type": "stream",
          "text": [
            "/usr/local/lib/python3.6/dist-packages/ipykernel_launcher.py:24: SettingWithCopyWarning:\n",
            "\n",
            "\n",
            "A value is trying to be set on a copy of a slice from a DataFrame.\n",
            "Try using .loc[row_indexer,col_indexer] = value instead\n",
            "\n",
            "See the caveats in the documentation: http://pandas.pydata.org/pandas-docs/stable/indexing.html#indexing-view-versus-copy\n",
            "\n"
          ],
          "name": "stderr"
        }
      ]
    },
    {
      "cell_type": "code",
      "metadata": {
        "id": "mjhBlnWE-3ul",
        "colab_type": "code",
        "colab": {
          "base_uri": "https://localhost:8080/",
          "height": 204
        },
        "outputId": "5fda6fbe-a470-45aa-886e-6c2d665c6593"
      },
      "source": [
        "df3.head()\n",
        "#df3.Diff.value_counts()\n",
        "#df3.dropna()\n",
        "#df3.Diff.head()\n",
        "\n"
      ],
      "execution_count": 83,
      "outputs": [
        {
          "output_type": "execute_result",
          "data": {
            "text/html": [
              "<div>\n",
              "<style scoped>\n",
              "    .dataframe tbody tr th:only-of-type {\n",
              "        vertical-align: middle;\n",
              "    }\n",
              "\n",
              "    .dataframe tbody tr th {\n",
              "        vertical-align: top;\n",
              "    }\n",
              "\n",
              "    .dataframe thead th {\n",
              "        text-align: right;\n",
              "    }\n",
              "</style>\n",
              "<table border=\"1\" class=\"dataframe\">\n",
              "  <thead>\n",
              "    <tr style=\"text-align: right;\">\n",
              "      <th></th>\n",
              "      <th>regi_id</th>\n",
              "      <th>product_code</th>\n",
              "      <th>NL_Sub_date</th>\n",
              "      <th>NL_Unsub_date</th>\n",
              "      <th>Diff</th>\n",
              "    </tr>\n",
              "  </thead>\n",
              "  <tbody>\n",
              "    <tr>\n",
              "      <th>36</th>\n",
              "      <td>70003589</td>\n",
              "      <td>CK</td>\n",
              "      <td>2014-10-15</td>\n",
              "      <td>2018-08-26</td>\n",
              "      <td>1411.0</td>\n",
              "    </tr>\n",
              "    <tr>\n",
              "      <th>40</th>\n",
              "      <td>67301490</td>\n",
              "      <td>CK</td>\n",
              "      <td>2016-11-14</td>\n",
              "      <td>2018-08-27</td>\n",
              "      <td>651.0</td>\n",
              "    </tr>\n",
              "    <tr>\n",
              "      <th>48</th>\n",
              "      <td>70024087</td>\n",
              "      <td>CK</td>\n",
              "      <td>2014-10-18</td>\n",
              "      <td>2018-08-27</td>\n",
              "      <td>1409.0</td>\n",
              "    </tr>\n",
              "    <tr>\n",
              "      <th>63</th>\n",
              "      <td>4929013</td>\n",
              "      <td>CK</td>\n",
              "      <td>2015-09-07</td>\n",
              "      <td>2018-08-27</td>\n",
              "      <td>1085.0</td>\n",
              "    </tr>\n",
              "    <tr>\n",
              "      <th>85</th>\n",
              "      <td>75942092</td>\n",
              "      <td>CK</td>\n",
              "      <td>2016-06-25</td>\n",
              "      <td>2018-08-27</td>\n",
              "      <td>793.0</td>\n",
              "    </tr>\n",
              "  </tbody>\n",
              "</table>\n",
              "</div>"
            ],
            "text/plain": [
              "     regi_id product_code NL_Sub_date NL_Unsub_date    Diff\n",
              "36  70003589           CK  2014-10-15    2018-08-26  1411.0\n",
              "40  67301490           CK  2016-11-14    2018-08-27   651.0\n",
              "48  70024087           CK  2014-10-18    2018-08-27  1409.0\n",
              "63   4929013           CK  2015-09-07    2018-08-27  1085.0\n",
              "85  75942092           CK  2016-06-25    2018-08-27   793.0"
            ]
          },
          "metadata": {
            "tags": []
          },
          "execution_count": 83
        }
      ]
    },
    {
      "cell_type": "code",
      "metadata": {
        "id": "62TIl9RPAq-y",
        "colab_type": "code",
        "colab": {
          "base_uri": "https://localhost:8080/",
          "height": 170
        },
        "outputId": "ca57d1bf-1617-4db6-929e-f8740d9a7ace"
      },
      "source": [
        "\n",
        "df3 = df3.dropna()\n",
        "#df3['Diff'] = df3['Diff'].astype('int')\n",
        "df4 = df3[df3['NL_Unsub_date'] != '2018-12-20']\n",
        "df4['NL_Unsub_date'].value_counts().describe()"
      ],
      "execution_count": 77,
      "outputs": [
        {
          "output_type": "execute_result",
          "data": {
            "text/plain": [
              "count     600.000000\n",
              "mean      137.895000\n",
              "std       379.068673\n",
              "min        13.000000\n",
              "25%        71.000000\n",
              "50%       109.500000\n",
              "75%       146.000000\n",
              "max      8290.000000\n",
              "Name: NL_Unsub_date, dtype: float64"
            ]
          },
          "metadata": {
            "tags": []
          },
          "execution_count": 77
        }
      ]
    },
    {
      "cell_type": "code",
      "metadata": {
        "id": "R7pwjHZlBB8p",
        "colab_type": "code",
        "colab": {
          "base_uri": "https://localhost:8080/",
          "height": 297
        },
        "outputId": "e6908785-4f12-48be-de42-750237b1408f"
      },
      "source": [
        "#df3.dtypes\n",
        "df3.describe()\n",
        "#sb.distplot(df3['Diff'])\n",
        "#sb.distplot(df3['Diff'])\n",
        "\n"
      ],
      "execution_count": 106,
      "outputs": [
        {
          "output_type": "execute_result",
          "data": {
            "text/html": [
              "<div>\n",
              "<style scoped>\n",
              "    .dataframe tbody tr th:only-of-type {\n",
              "        vertical-align: middle;\n",
              "    }\n",
              "\n",
              "    .dataframe tbody tr th {\n",
              "        vertical-align: top;\n",
              "    }\n",
              "\n",
              "    .dataframe thead th {\n",
              "        text-align: right;\n",
              "    }\n",
              "</style>\n",
              "<table border=\"1\" class=\"dataframe\">\n",
              "  <thead>\n",
              "    <tr style=\"text-align: right;\">\n",
              "      <th></th>\n",
              "      <th>regi_id</th>\n",
              "      <th>Diff</th>\n",
              "    </tr>\n",
              "  </thead>\n",
              "  <tbody>\n",
              "    <tr>\n",
              "      <th>count</th>\n",
              "      <td>1.111470e+05</td>\n",
              "      <td>111147.000000</td>\n",
              "    </tr>\n",
              "    <tr>\n",
              "      <th>mean</th>\n",
              "      <td>6.254517e+07</td>\n",
              "      <td>1131.843702</td>\n",
              "    </tr>\n",
              "    <tr>\n",
              "      <th>std</th>\n",
              "      <td>1.790429e+07</td>\n",
              "      <td>321.851284</td>\n",
              "    </tr>\n",
              "    <tr>\n",
              "      <th>min</th>\n",
              "      <td>1.430000e+03</td>\n",
              "      <td>397.000000</td>\n",
              "    </tr>\n",
              "    <tr>\n",
              "      <th>25%</th>\n",
              "      <td>5.792981e+07</td>\n",
              "      <td>862.000000</td>\n",
              "    </tr>\n",
              "    <tr>\n",
              "      <th>50%</th>\n",
              "      <td>7.023802e+07</td>\n",
              "      <td>1106.000000</td>\n",
              "    </tr>\n",
              "    <tr>\n",
              "      <th>75%</th>\n",
              "      <td>7.396816e+07</td>\n",
              "      <td>1406.000000</td>\n",
              "    </tr>\n",
              "    <tr>\n",
              "      <th>max</th>\n",
              "      <td>7.837963e+07</td>\n",
              "      <td>2040.000000</td>\n",
              "    </tr>\n",
              "  </tbody>\n",
              "</table>\n",
              "</div>"
            ],
            "text/plain": [
              "            regi_id           Diff\n",
              "count  1.111470e+05  111147.000000\n",
              "mean   6.254517e+07    1131.843702\n",
              "std    1.790429e+07     321.851284\n",
              "min    1.430000e+03     397.000000\n",
              "25%    5.792981e+07     862.000000\n",
              "50%    7.023802e+07    1106.000000\n",
              "75%    7.396816e+07    1406.000000\n",
              "max    7.837963e+07    2040.000000"
            ]
          },
          "metadata": {
            "tags": []
          },
          "execution_count": 106
        }
      ]
    },
    {
      "cell_type": "code",
      "metadata": {
        "id": "rzQTyjgyZZLT",
        "colab_type": "code",
        "colab": {}
      },
      "source": [
        "# Account for day '2018-12-20'\n",
        "\n",
        "df4 = df3[df3['NL_Unsub_date'] != '2018-12-20']\n",
        "\n",
        "#df3.describe()"
      ],
      "execution_count": 0,
      "outputs": []
    },
    {
      "cell_type": "code",
      "metadata": {
        "id": "6emd8wzqZZOL",
        "colab_type": "code",
        "colab": {
          "base_uri": "https://localhost:8080/",
          "height": 315
        },
        "outputId": "19f42918-f32d-471f-b5ca-6dbd98d6692c"
      },
      "source": [
        "#df4.describe()\n",
        "\n",
        "sb.distplot(df4['Diff'])"
      ],
      "execution_count": 109,
      "outputs": [
        {
          "output_type": "execute_result",
          "data": {
            "text/plain": [
              "<matplotlib.axes._subplots.AxesSubplot at 0x7f3dc65e2a58>"
            ]
          },
          "metadata": {
            "tags": []
          },
          "execution_count": 109
        },
        {
          "output_type": "display_data",
          "data": {
            "image/png": "[encoded data removed]",
            "text/plain": [
              "<Figure size 432x288 with 1 Axes>"
            ]
          },
          "metadata": {
            "tags": []
          }
        }
      ]
    },
    {
      "cell_type": "code",
      "metadata": {
        "id": "Ll3DJtlqAqWD",
        "colab_type": "code",
        "colab": {
          "base_uri": "https://localhost:8080/",
          "height": 187
        },
        "outputId": "f8917fd9-3571-4cb6-ecf6-be0cdbe82838"
      },
      "source": [
        "import numpy as np\n",
        "import pandas as pd\n",
        "from fbprophet import Prophet \n",
        "import matplotlib.pyplot as plt\n",
        "import seaborn as sb\n",
        "from pandas import Series, DataFrame\n",
        "from pylab import *\n",
        "import statsmodels.api as sm\n",
        "from matplotlib.ticker import MaxNLocator\n",
        "from matplotlib.font_manager import FontProperties\n",
        "from scipy import stats\n",
        "from scipy.stats import norm\n",
        "\n",
        "c = \"\"\"\n",
        "SELECT\n",
        "--EXTRACT(YEAR FROM NL_Sub_date) as subyear,\n",
        "--EXTRACT(MONTH FROM NL_Sub_date) as submonth,\n",
        "diff,\n",
        "COUNT(distinct regi_id) as totals, \n",
        "count(distinct case when NL_Unsub_date is not null then regi_id ELSE NULL END) as drop\n",
        "FROM (\n",
        "SELECT \n",
        "       regi_id,\n",
        "       NL_Sub_date,\n",
        "       NL_Unsub_date,\n",
        "       DATE_DIFF(NL_Unsub_date, NL_Sub_date, Month) as Diff\n",
        "      --Count(distinct case when NL_Sub_date is not null THEN regi_id ELSE NULL END) as SubbedThisMonth,\n",
        "      --Count(distinct case when NL_Unsub_date is not null THEN regi_id ELSE NULL END) as UnsubbedThisMonth\n",
        "      FROM (\n",
        "              SELECT\n",
        "              regi_id, \n",
        "              product_code, \n",
        "              mIN(case when is_sub = true then date(update_time) else null end) as NL_Sub_date,\n",
        "              max(case when is_sub = False then date(update_time) else null end) as NL_Unsub_date\n",
        "              FROM `nyt-messaging-prd.helix_email.email_user_subscriptions`\n",
        "              WHERE _PARTITIONTIME >= '2016-01-01 00:00:00' AND _PARTITIONTIME < '2019-09-25 00:00:00'\n",
        "              and product_code = 'CK'\n",
        "              group by 1,2\n",
        "           ) \n",
        "      WHERE \n",
        "              NL_Sub_date < '2017-01-01'-- >= '2018-08-01'\n",
        "      GROUP BY 1,2,3,4 \n",
        "      )\n",
        "GROUP BY 1\n",
        "\"\"\"\n",
        "\n",
        "dff = pd.read_gbq(c,\n",
        "    project_id = 'nyt-bigquery-beta-workspace',\n",
        "    dialect='standard')"
      ],
      "execution_count": 19,
      "outputs": [
        {
          "output_type": "stream",
          "text": [
            "INFO:google.auth.compute_engine._metadata:Compute Engine Metadata server unavailable.\n",
            "INFO:pandas_gbq.gbq:Requesting query... \n",
            "INFO:pandas_gbq.gbq:ok.\n",
            "Query running...\n",
            "INFO:pandas_gbq.gbq:Job ID: b2331ac2-e5b6-43ad-8483-0f7688cbc36f\n",
            "Query running...\n",
            "INFO:pandas_gbq.gbq:Got 52 rows.\n",
            "\n",
            "INFO:pandas_gbq.gbq:Total time taken 7.41 s.\n",
            "Finished at 2019-09-25 14:35:56.\n"
          ],
          "name": "stderr"
        }
      ]
    },
    {
      "cell_type": "code",
      "metadata": {
        "id": "21dot4vR0dza",
        "colab_type": "code",
        "colab": {
          "base_uri": "https://localhost:8080/",
          "height": 204
        },
        "outputId": "f0f9fef8-51fd-46a6-aaf0-0b1c5dcabe37"
      },
      "source": [
        "dff.head()"
      ],
      "execution_count": 4,
      "outputs": [
        {
          "output_type": "execute_result",
          "data": {
            "text/html": [
              "<div>\n",
              "<style scoped>\n",
              "    .dataframe tbody tr th:only-of-type {\n",
              "        vertical-align: middle;\n",
              "    }\n",
              "\n",
              "    .dataframe tbody tr th {\n",
              "        vertical-align: top;\n",
              "    }\n",
              "\n",
              "    .dataframe thead th {\n",
              "        text-align: right;\n",
              "    }\n",
              "</style>\n",
              "<table border=\"1\" class=\"dataframe\">\n",
              "  <thead>\n",
              "    <tr style=\"text-align: right;\">\n",
              "      <th></th>\n",
              "      <th>diff</th>\n",
              "      <th>totals</th>\n",
              "      <th>drop</th>\n",
              "    </tr>\n",
              "  </thead>\n",
              "  <tbody>\n",
              "    <tr>\n",
              "      <th>0</th>\n",
              "      <td>16</td>\n",
              "      <td>627</td>\n",
              "      <td>627</td>\n",
              "    </tr>\n",
              "    <tr>\n",
              "      <th>1</th>\n",
              "      <td>22</td>\n",
              "      <td>1148</td>\n",
              "      <td>1148</td>\n",
              "    </tr>\n",
              "    <tr>\n",
              "      <th>2</th>\n",
              "      <td>28</td>\n",
              "      <td>3484</td>\n",
              "      <td>3484</td>\n",
              "    </tr>\n",
              "    <tr>\n",
              "      <th>3</th>\n",
              "      <td>35</td>\n",
              "      <td>3907</td>\n",
              "      <td>3907</td>\n",
              "    </tr>\n",
              "    <tr>\n",
              "      <th>4</th>\n",
              "      <td>55</td>\n",
              "      <td>1055</td>\n",
              "      <td>1055</td>\n",
              "    </tr>\n",
              "  </tbody>\n",
              "</table>\n",
              "</div>"
            ],
            "text/plain": [
              "  diff  totals  drop\n",
              "0   16     627   627\n",
              "1   22    1148  1148\n",
              "2   28    3484  3484\n",
              "3   35    3907  3907\n",
              "4   55    1055  1055"
            ]
          },
          "metadata": {
            "tags": []
          },
          "execution_count": 4
        }
      ]
    },
    {
      "cell_type": "code",
      "metadata": {
        "id": "cIM3hCtC0rlE",
        "colab_type": "code",
        "colab": {
          "base_uri": "https://localhost:8080/",
          "height": 751
        },
        "outputId": "3ecd2139-eb27-4c3d-9807-fcbd710926a9"
      },
      "source": [
        "sb.jointplot(x=\"diff\", y=\"totals\", data=dff, color=\"k\")"
      ],
      "execution_count": 7,
      "outputs": [
        {
          "output_type": "error",
          "ename": "ValueError",
          "evalue": "ignored",
          "traceback": [
            "\u001b[0;31m---------------------------------------------------------------------------\u001b[0m",
            "\u001b[0;31mValueError\u001b[0m                                Traceback (most recent call last)",
            "\u001b[0;32m<ipython-input-7-145d09d77d8f>\u001b[0m in \u001b[0;36m<module>\u001b[0;34m()\u001b[0m\n\u001b[0;32m----> 1\u001b[0;31m \u001b[0msb\u001b[0m\u001b[0;34m.\u001b[0m\u001b[0mjointplot\u001b[0m\u001b[0;34m(\u001b[0m\u001b[0mx\u001b[0m\u001b[0;34m=\u001b[0m\u001b[0;34m\"diff\"\u001b[0m\u001b[0;34m,\u001b[0m \u001b[0my\u001b[0m\u001b[0;34m=\u001b[0m\u001b[0;34m\"totals\"\u001b[0m\u001b[0;34m,\u001b[0m \u001b[0mdata\u001b[0m\u001b[0;34m=\u001b[0m\u001b[0mdff\u001b[0m\u001b[0;34m,\u001b[0m \u001b[0mcolor\u001b[0m\u001b[0;34m=\u001b[0m\u001b[0;34m\"k\"\u001b[0m\u001b[0;34m)\u001b[0m\u001b[0;34m\u001b[0m\u001b[0;34m\u001b[0m\u001b[0m\n\u001b[0m",
            "\u001b[0;32m/usr/local/lib/python3.6/dist-packages/seaborn/axisgrid.py\u001b[0m in \u001b[0;36mjointplot\u001b[0;34m(x, y, data, kind, stat_func, color, height, ratio, space, dropna, xlim, ylim, joint_kws, marginal_kws, annot_kws, **kwargs)\u001b[0m\n\u001b[1;32m   2292\u001b[0m         \u001b[0mmarginal_kws\u001b[0m\u001b[0;34m.\u001b[0m\u001b[0msetdefault\u001b[0m\u001b[0;34m(\u001b[0m\u001b[0;34m\"kde\"\u001b[0m\u001b[0;34m,\u001b[0m \u001b[0;32mFalse\u001b[0m\u001b[0;34m)\u001b[0m\u001b[0;34m\u001b[0m\u001b[0;34m\u001b[0m\u001b[0m\n\u001b[1;32m   2293\u001b[0m         \u001b[0mmarginal_kws\u001b[0m\u001b[0;34m.\u001b[0m\u001b[0msetdefault\u001b[0m\u001b[0;34m(\u001b[0m\u001b[0;34m\"color\"\u001b[0m\u001b[0;34m,\u001b[0m \u001b[0mcolor\u001b[0m\u001b[0;34m)\u001b[0m\u001b[0;34m\u001b[0m\u001b[0;34m\u001b[0m\u001b[0m\n\u001b[0;32m-> 2294\u001b[0;31m         \u001b[0mgrid\u001b[0m\u001b[0;34m.\u001b[0m\u001b[0mplot_marginals\u001b[0m\u001b[0;34m(\u001b[0m\u001b[0mdistplot\u001b[0m\u001b[0;34m,\u001b[0m \u001b[0;34m**\u001b[0m\u001b[0mmarginal_kws\u001b[0m\u001b[0;34m)\u001b[0m\u001b[0;34m\u001b[0m\u001b[0;34m\u001b[0m\u001b[0m\n\u001b[0m\u001b[1;32m   2295\u001b[0m \u001b[0;34m\u001b[0m\u001b[0m\n\u001b[1;32m   2296\u001b[0m     \u001b[0;32melif\u001b[0m \u001b[0mkind\u001b[0m\u001b[0;34m.\u001b[0m\u001b[0mstartswith\u001b[0m\u001b[0;34m(\u001b[0m\u001b[0;34m\"hex\"\u001b[0m\u001b[0;34m)\u001b[0m\u001b[0;34m:\u001b[0m\u001b[0;34m\u001b[0m\u001b[0;34m\u001b[0m\u001b[0m\n",
            "\u001b[0;32m/usr/local/lib/python3.6/dist-packages/seaborn/axisgrid.py\u001b[0m in \u001b[0;36mplot_marginals\u001b[0;34m(self, func, **kwargs)\u001b[0m\n\u001b[1;32m   1807\u001b[0m         \u001b[0mkwargs\u001b[0m\u001b[0;34m[\u001b[0m\u001b[0;34m\"vertical\"\u001b[0m\u001b[0;34m]\u001b[0m \u001b[0;34m=\u001b[0m \u001b[0;32mFalse\u001b[0m\u001b[0;34m\u001b[0m\u001b[0;34m\u001b[0m\u001b[0m\n\u001b[1;32m   1808\u001b[0m         \u001b[0mplt\u001b[0m\u001b[0;34m.\u001b[0m\u001b[0msca\u001b[0m\u001b[0;34m(\u001b[0m\u001b[0mself\u001b[0m\u001b[0;34m.\u001b[0m\u001b[0max_marg_x\u001b[0m\u001b[0;34m)\u001b[0m\u001b[0;34m\u001b[0m\u001b[0;34m\u001b[0m\u001b[0m\n\u001b[0;32m-> 1809\u001b[0;31m         \u001b[0mfunc\u001b[0m\u001b[0;34m(\u001b[0m\u001b[0mself\u001b[0m\u001b[0;34m.\u001b[0m\u001b[0mx\u001b[0m\u001b[0;34m,\u001b[0m \u001b[0;34m**\u001b[0m\u001b[0mkwargs\u001b[0m\u001b[0;34m)\u001b[0m\u001b[0;34m\u001b[0m\u001b[0;34m\u001b[0m\u001b[0m\n\u001b[0m\u001b[1;32m   1810\u001b[0m \u001b[0;34m\u001b[0m\u001b[0m\n\u001b[1;32m   1811\u001b[0m         \u001b[0mkwargs\u001b[0m\u001b[0;34m[\u001b[0m\u001b[0;34m\"vertical\"\u001b[0m\u001b[0;34m]\u001b[0m \u001b[0;34m=\u001b[0m \u001b[0;32mTrue\u001b[0m\u001b[0;34m\u001b[0m\u001b[0;34m\u001b[0m\u001b[0m\n",
            "\u001b[0;32m/usr/local/lib/python3.6/dist-packages/seaborn/distributions.py\u001b[0m in \u001b[0;36mdistplot\u001b[0;34m(a, bins, hist, kde, rug, fit, hist_kws, kde_kws, rug_kws, fit_kws, color, vertical, norm_hist, axlabel, label, ax)\u001b[0m\n\u001b[1;32m    223\u001b[0m         \u001b[0mhist_color\u001b[0m \u001b[0;34m=\u001b[0m \u001b[0mhist_kws\u001b[0m\u001b[0;34m.\u001b[0m\u001b[0mpop\u001b[0m\u001b[0;34m(\u001b[0m\u001b[0;34m\"color\"\u001b[0m\u001b[0;34m,\u001b[0m \u001b[0mcolor\u001b[0m\u001b[0;34m)\u001b[0m\u001b[0;34m\u001b[0m\u001b[0;34m\u001b[0m\u001b[0m\n\u001b[1;32m    224\u001b[0m         ax.hist(a, bins, orientation=orientation,\n\u001b[0;32m--> 225\u001b[0;31m                 color=hist_color, **hist_kws)\n\u001b[0m\u001b[1;32m    226\u001b[0m         \u001b[0;32mif\u001b[0m \u001b[0mhist_color\u001b[0m \u001b[0;34m!=\u001b[0m \u001b[0mcolor\u001b[0m\u001b[0;34m:\u001b[0m\u001b[0;34m\u001b[0m\u001b[0;34m\u001b[0m\u001b[0m\n\u001b[1;32m    227\u001b[0m             \u001b[0mhist_kws\u001b[0m\u001b[0;34m[\u001b[0m\u001b[0;34m\"color\"\u001b[0m\u001b[0;34m]\u001b[0m \u001b[0;34m=\u001b[0m \u001b[0mhist_color\u001b[0m\u001b[0;34m\u001b[0m\u001b[0;34m\u001b[0m\u001b[0m\n",
            "\u001b[0;32m/usr/local/lib/python3.6/dist-packages/matplotlib/__init__.py\u001b[0m in \u001b[0;36minner\u001b[0;34m(ax, data, *args, **kwargs)\u001b[0m\n\u001b[1;32m   1808\u001b[0m                         \u001b[0;34m\"the Matplotlib list!)\"\u001b[0m \u001b[0;34m%\u001b[0m \u001b[0;34m(\u001b[0m\u001b[0mlabel_namer\u001b[0m\u001b[0;34m,\u001b[0m \u001b[0mfunc\u001b[0m\u001b[0;34m.\u001b[0m\u001b[0m__name__\u001b[0m\u001b[0;34m)\u001b[0m\u001b[0;34m,\u001b[0m\u001b[0;34m\u001b[0m\u001b[0;34m\u001b[0m\u001b[0m\n\u001b[1;32m   1809\u001b[0m                         RuntimeWarning, stacklevel=2)\n\u001b[0;32m-> 1810\u001b[0;31m             \u001b[0;32mreturn\u001b[0m \u001b[0mfunc\u001b[0m\u001b[0;34m(\u001b[0m\u001b[0max\u001b[0m\u001b[0;34m,\u001b[0m \u001b[0;34m*\u001b[0m\u001b[0margs\u001b[0m\u001b[0;34m,\u001b[0m \u001b[0;34m**\u001b[0m\u001b[0mkwargs\u001b[0m\u001b[0;34m)\u001b[0m\u001b[0;34m\u001b[0m\u001b[0;34m\u001b[0m\u001b[0m\n\u001b[0m\u001b[1;32m   1811\u001b[0m \u001b[0;34m\u001b[0m\u001b[0m\n\u001b[1;32m   1812\u001b[0m         inner.__doc__ = _add_data_doc(inner.__doc__,\n",
            "\u001b[0;32m/usr/local/lib/python3.6/dist-packages/matplotlib/axes/_axes.py\u001b[0m in \u001b[0;36mhist\u001b[0;34m(self, x, bins, range, density, weights, cumulative, bottom, histtype, align, orientation, rwidth, log, color, label, stacked, normed, **kwargs)\u001b[0m\n\u001b[1;32m   6563\u001b[0m                     \u001b[0;34m\"color kwarg must have one color per data set. %d data \"\u001b[0m\u001b[0;34m\u001b[0m\u001b[0;34m\u001b[0m\u001b[0m\n\u001b[1;32m   6564\u001b[0m                     \"sets and %d colors were provided\" % (nx, len(color)))\n\u001b[0;32m-> 6565\u001b[0;31m                 \u001b[0;32mraise\u001b[0m \u001b[0mValueError\u001b[0m\u001b[0;34m(\u001b[0m\u001b[0merror_message\u001b[0m\u001b[0;34m)\u001b[0m\u001b[0;34m\u001b[0m\u001b[0;34m\u001b[0m\u001b[0m\n\u001b[0m\u001b[1;32m   6566\u001b[0m \u001b[0;34m\u001b[0m\u001b[0m\n\u001b[1;32m   6567\u001b[0m         \u001b[0;31m# If bins are not specified either explicitly or via range,\u001b[0m\u001b[0;34m\u001b[0m\u001b[0;34m\u001b[0m\u001b[0;34m\u001b[0m\u001b[0m\n",
            "\u001b[0;31mValueError\u001b[0m: color kwarg must have one color per data set. 51 data sets and 1 colors were provided"
          ]
        },
        {
          "output_type": "display_data",
          "data": {
            "image/png": "[encoded data removed]",
            "text/plain": [
              "<Figure size 432x432 with 3 Axes>"
            ]
          },
          "metadata": {
            "tags": []
          }
        }
      ]
    },
    {
      "cell_type": "code",
      "metadata": {
        "id": "RBH2cCo71kSB",
        "colab_type": "code",
        "colab": {}
      },
      "source": [
        "#dff1 = dff[dff['diff'] != 'None']\n",
        "#dff1.dtypes\n",
        "dff1 = dff[pd.to_numeric(dff['diff'], errors='coerce').notnull()]"
      ],
      "execution_count": 0,
      "outputs": []
    },
    {
      "cell_type": "code",
      "metadata": {
        "id": "DYtxxnuX7MK6",
        "colab_type": "code",
        "colab": {}
      },
      "source": [
        ""
      ],
      "execution_count": 0,
      "outputs": []
    },
    {
      "cell_type": "code",
      "metadata": {
        "id": "8dDtwveN2S7_",
        "colab_type": "code",
        "colab": {}
      },
      "source": [
        "dff1.plot.bar(x=\"diff\", y=\"totals\", rot=90)"
      ],
      "execution_count": 0,
      "outputs": []
    },
    {
      "cell_type": "code",
      "metadata": {
        "id": "cALTaiNR3dxw",
        "colab_type": "code",
        "colab": {
          "base_uri": "https://localhost:8080/",
          "height": 649
        },
        "outputId": "9e61a417-2639-4e5f-9d16-d6785b12f9d4"
      },
      "source": [
        "fig, ax = plt.subplots(figsize=(15,10))\n",
        "dff1.groupby(['diff']).sum()['totals'].plot.bar(ax=ax)\n",
        "plt.title('Tenure before Unsubscription for Users who Subbed Before Jan 2017', fontsize = 20, alpha=.85, weight = 'bold')\n",
        "plt.xlabel('Months before Unsubscribing', fontsize = 12)\n",
        "plt.ylabel('\\n Counts \\n     ', rotation = 0)\n",
        "\n",
        "plt.annotate(\n",
        "# Label and coordinate\n",
        "'2 years Out!', xy=(10, 3570), xytext=(5, 4000),\n",
        " \n",
        "# Custom arrow\n",
        "arrowprops=dict(facecolor='black', shrink=0.05)\n",
        ")\n"
      ],
      "execution_count": 47,
      "outputs": [
        {
          "output_type": "execute_result",
          "data": {
            "text/plain": [
              "Text(5, 4000, '2 years Out!')"
            ]
          },
          "metadata": {
            "tags": []
          },
          "execution_count": 47
        },
        {
          "output_type": "display_data",
          "data": {
            "image/png": "[encoded data removed]",
            "text/plain": [
              "<Figure size 1080x720 with 1 Axes>"
            ]
          },
          "metadata": {
            "tags": []
          }
        }
      ]
    },
    {
      "cell_type": "code",
      "metadata": {
        "id": "sJKI1yNC3dD6",
        "colab_type": "code",
        "colab": {
          "base_uri": "https://localhost:8080/",
          "height": 221
        },
        "outputId": "34e99d34-4051-4f87-a774-83bc71e2b40f"
      },
      "source": [
        "import numpy as np\n",
        "import pandas as pd\n",
        "from fbprophet import Prophet \n",
        "import matplotlib.pyplot as plt\n",
        "import seaborn as sb\n",
        "from pandas import Series, DataFrame\n",
        "from pylab import *\n",
        "import statsmodels.api as sm\n",
        "from matplotlib.ticker import MaxNLocator\n",
        "from matplotlib.font_manager import FontProperties\n",
        "from scipy import stats\n",
        "from scipy.stats import norm\n",
        "\n",
        "g = \"\"\"\n",
        "SELECT\n",
        "--EXTRACT(YEAR FROM NL_Sub_date) as subyear,\n",
        "--EXTRACT(MONTH FROM NL_Sub_date) as submonth,\n",
        "diff,\n",
        "COUNT(distinct regi_id) as totals, \n",
        "count(distinct case when NL_Unsub_date is not null then regi_id ELSE NULL END) as drop\n",
        "FROM (\n",
        "SELECT \n",
        "       regi_id,\n",
        "       NL_Sub_date,\n",
        "       NL_Unsub_date,\n",
        "       DATE_DIFF(NL_Unsub_date, NL_Sub_date, Month) as Diff\n",
        "      --Count(distinct case when NL_Sub_date is not null THEN regi_id ELSE NULL END) as SubbedThisMonth,\n",
        "      --Count(distinct case when NL_Unsub_date is not null THEN regi_id ELSE NULL END) as UnsubbedThisMonth\n",
        "      FROM (\n",
        "              SELECT\n",
        "              regi_id, \n",
        "              product_code, \n",
        "              mIN(case when is_sub = true then date(update_time) else null end) as NL_Sub_date,\n",
        "              max(case when is_sub = False then date(update_time) else null end) as NL_Unsub_date\n",
        "              FROM `nyt-messaging-prd.helix_email.email_user_subscriptions`\n",
        "              WHERE _PARTITIONTIME >= '2016-01-01 00:00:00' AND _PARTITIONTIME < '2019-09-25 00:00:00'\n",
        "              and product_code = 'CK'\n",
        "              group by 1,2\n",
        "           ) \n",
        "      WHERE \n",
        "              NL_Unsub_date not in ('2017-08-26','2017-08-25','2018-12-20')    -- >= '2018-08-01'\n",
        "      GROUP BY 1,2,3,4 \n",
        "      )\n",
        "GROUP BY 1\n",
        "\"\"\"\n",
        "\n",
        "bh = pd.read_gbq(g,\n",
        "    project_id = 'nyt-bigquery-beta-workspace',\n",
        "    dialect='standard')"
      ],
      "execution_count": 65,
      "outputs": [
        {
          "output_type": "stream",
          "text": [
            "INFO:google.auth.compute_engine._metadata:Compute Engine Metadata server unavailable.\n",
            "INFO:pandas_gbq.gbq:Requesting query... \n",
            "INFO:pandas_gbq.gbq:ok.\n",
            "Query running...\n",
            "INFO:pandas_gbq.gbq:Job ID: c6668628-003d-4612-a8ed-3bd70c71e6f8\n",
            "Query running...\n",
            "INFO:pandas_gbq.gbq:  Elapsed 7.31 s. Waiting...\n",
            "INFO:pandas_gbq.gbq:  Elapsed 10.19 s. Waiting...\n",
            "INFO:pandas_gbq.gbq:Got 93 rows.\n",
            "\n",
            "INFO:pandas_gbq.gbq:Total time taken 10.83 s.\n",
            "Finished at 2019-09-25 15:11:26.\n"
          ],
          "name": "stderr"
        }
      ]
    },
    {
      "cell_type": "code",
      "metadata": {
        "id": "LB2vQRUA7NXp",
        "colab_type": "code",
        "colab": {}
      },
      "source": [
        "bh1 = bh[pd.to_numeric(bh['diff'], errors='coerce').notnull()]\n",
        "\n",
        "bh1 = bh1[bh1['diff'] > 0]"
      ],
      "execution_count": 0,
      "outputs": []
    },
    {
      "cell_type": "code",
      "metadata": {
        "id": "HT4JBi2g7SfU",
        "colab_type": "code",
        "colab": {
          "base_uri": "https://localhost:8080/",
          "height": 649
        },
        "outputId": "24e9dbf0-7715-4ac1-aec2-96d6d9099593"
      },
      "source": [
        "fig1, ax1 = plt.subplots(figsize=(15,10))\n",
        "bh1.groupby(['diff']).sum()['totals'].plot.bar(ax=ax1)\n",
        "plt.title('Tenure before Unsubscription for Users who Subbed Before Jan 2017', fontsize = 20, alpha=.85, weight = 'bold')\n",
        "plt.xlabel('Months before Unsubscribing', fontsize = 12)\n",
        "plt.ylabel('\\n Counts \\n \\n      ', rotation = 0)"
      ],
      "execution_count": 67,
      "outputs": [
        {
          "output_type": "execute_result",
          "data": {
            "text/plain": [
              "Text(0, 0.5, '\\n Counts \\n \\n      ')"
            ]
          },
          "metadata": {
            "tags": []
          },
          "execution_count": 67
        },
        {
          "output_type": "display_data",
          "data": {
            "image/png": "[encoded data removed]",
            "text/plain": [
              "<Figure size 1080x720 with 1 Axes>"
            ]
          },
          "metadata": {
            "tags": []
          }
        }
      ]
    }
  ]
}